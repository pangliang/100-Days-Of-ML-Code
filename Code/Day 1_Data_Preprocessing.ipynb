{
 "cells": [
  {
   "cell_type": "markdown",
   "metadata": {},
   "source": [
    "# 机器学习100天——第1天：数据预处理（Data Preprocessing）"
   ]
  },
  {
   "cell_type": "markdown",
   "metadata": {},
   "source": [
    "搭建anaconda环境，参考 https://zhuanlan.zhihu.com/p/33358809\n",
    "\n",
    "## 第一步：导入需要的库\n",
    "这两个是我们每次都需要导入的库。NumPy包含数学计算函数。Pandas用于导入和管理数据集。"
   ]
  },
  {
   "cell_type": "code",
   "metadata": {
    "ExecuteTime": {
     "end_time": "2024-12-03T10:31:07.816764Z",
     "start_time": "2024-12-03T10:31:07.812463Z"
    }
   },
   "source": [
    "import numpy as np\n",
    "import pandas as pd"
   ],
   "outputs": [],
   "execution_count": 70
  },
  {
   "cell_type": "code",
   "metadata": {
    "ExecuteTime": {
     "end_time": "2024-12-03T10:31:07.841352Z",
     "start_time": "2024-12-03T10:31:07.835209Z"
    }
   },
   "source": [
    "import sklearn\n",
    "from sklearn.impute import SimpleImputer\n",
    "#This block is an example used to learn SimpleImputer\n",
    "imp_mean = SimpleImputer(missing_values=np.nan, strategy='mean')\n",
    "# imp_mean.fit([[7, 2, 3], [4, np.nan, 6], [10, 5, 9]])\n",
    "X = [[np.nan, 2, 3], [4, np.nan, 6], [10, np.nan, 9]]\n",
    "imp_mean.fit(X)\n",
    "print(imp_mean.transform(X))\n",
    "print(\"Sklearn verion is {}\".format(sklearn.__version__))"
   ],
   "outputs": [
    {
     "name": "stdout",
     "output_type": "stream",
     "text": [
      "[[ 7.  2.  3.]\n",
      " [ 4.  2.  6.]\n",
      " [10.  2.  9.]]\n",
      "Sklearn verion is 1.5.2\n"
     ]
    }
   ],
   "execution_count": 71
  },
  {
   "cell_type": "code",
   "metadata": {
    "ExecuteTime": {
     "end_time": "2024-12-03T10:31:07.853242Z",
     "start_time": "2024-12-03T10:31:07.846361Z"
    }
   },
   "source": [
    "from sklearn.preprocessing import OneHotEncoder\n",
    "enc = OneHotEncoder(handle_unknown='ignore')\n",
    "X = [['Male', 1], ['Female', 3], ['Female', 2]]\n",
    "print(enc.fit(X))\n",
    "print(enc.categories_)\n",
    "print(enc.transform([['Female', 1], ['Male', 4]]))\n",
    "print(enc.inverse_transform([[0, 1, 1, 0, 0], [0, 0, 0, 1, 0]]))\n",
    "print(enc.get_feature_names_out(['gender', 'group']))"
   ],
   "outputs": [
    {
     "name": "stdout",
     "output_type": "stream",
     "text": [
      "OneHotEncoder(handle_unknown='ignore')\n",
      "[array(['Female', 'Male'], dtype=object), array([1, 2, 3], dtype=object)]\n",
      "<Compressed Sparse Row sparse matrix of dtype 'float64'\n",
      "\twith 3 stored elements and shape (2, 5)>\n",
      "  Coords\tValues\n",
      "  (0, 0)\t1.0\n",
      "  (0, 2)\t1.0\n",
      "  (1, 1)\t1.0\n",
      "[['Male' 1]\n",
      " [None 2]]\n",
      "['gender_Female' 'gender_Male' 'group_1' 'group_2' 'group_3']\n"
     ]
    }
   ],
   "execution_count": 72
  },
  {
   "cell_type": "markdown",
   "metadata": {},
   "source": [
    "## 第二步：导入数据集\n",
    "数据集通常是.csv格式。CSV文件以文本形式保存表格数据。文件的每一行是一条数据记录。我们使用Pandas的read_csv方法读取本地csv文件为一个数据帧。然后，从数据帧中制作自变量和因变量的矩阵和向量。"
   ]
  },
  {
   "cell_type": "code",
   "metadata": {
    "ExecuteTime": {
     "end_time": "2024-12-03T10:31:07.890412Z",
     "start_time": "2024-12-03T10:31:07.882225Z"
    }
   },
   "source": [
    "dataset = pd.read_csv('../datasets/Data.csv')\n",
    "# 不包括最后一列的所有列\n",
    "X = dataset.iloc[ : , :-1].values\n",
    "#取最后一列\n",
    "Y = dataset.iloc[ : , 3].values\n",
    "print(\"Step 2: Importing dataset\")\n",
    "print(\"X\")\n",
    "print(X)\n",
    "print(\"Y\")\n",
    "print(Y)\n",
    "print(X[ : , 1:3])"
   ],
   "outputs": [
    {
     "name": "stdout",
     "output_type": "stream",
     "text": [
      "Step 2: Importing dataset\n",
      "X\n",
      "[['France' 44.0 72000.0]\n",
      " ['Spain' 27.0 48000.0]\n",
      " ['Germany' 30.0 54000.0]\n",
      " ['Spain' 38.0 61000.0]\n",
      " ['Germany' 40.0 nan]\n",
      " ['France' 35.0 58000.0]\n",
      " ['Spain' nan 52000.0]\n",
      " ['France' 48.0 79000.0]\n",
      " ['Germany' 50.0 83000.0]\n",
      " ['France' 37.0 67000.0]]\n",
      "Y\n",
      "['No' 'Yes' 'No' 'No' 'Yes' 'Yes' 'No' 'Yes' 'No' 'Yes']\n",
      "[[44.0 72000.0]\n",
      " [27.0 48000.0]\n",
      " [30.0 54000.0]\n",
      " [38.0 61000.0]\n",
      " [40.0 nan]\n",
      " [35.0 58000.0]\n",
      " [nan 52000.0]\n",
      " [48.0 79000.0]\n",
      " [50.0 83000.0]\n",
      " [37.0 67000.0]]\n"
     ]
    }
   ],
   "execution_count": 73
  },
  {
   "cell_type": "markdown",
   "metadata": {},
   "source": [
    "## 第三步：处理丢失数据\n",
    "我们得到的数据很少是完整的。数据可能因为各种原因丢失，为了不降低机器学习模型的性能，需要处理数据。我们可以用整列的平均值或中间值替换丢失的数据。我们用sklearn.preprocessing库中的Imputer类完成这项任务。"
   ]
  },
  {
   "cell_type": "code",
   "metadata": {
    "ExecuteTime": {
     "end_time": "2024-12-03T10:31:07.920072Z",
     "start_time": "2024-12-03T10:31:07.913975Z"
    }
   },
   "source": [
    "# If you use the newest version of sklearn, use the lines of code commented out\n",
    "from sklearn.impute import SimpleImputer\n",
    "imputer = SimpleImputer(missing_values=np.nan, strategy=\"most_frequent\")\n",
    "#from sklearn.preprocessing import Imputer\n",
    "# axis=0表示按列进行\n",
    "#imputer = Imputer(missing_values = \"NaN\", strategy = \"mean\", axis = 0)\n",
    "#print(imputer)\n",
    "#\n",
    "# print(X[ : , 1:3])\n",
    "imputer = imputer.fit(X[ : , 1:3]) #put the data we want to process in to this imputer\n",
    "X[ : , 1:3] = imputer.transform(X[ : , 1:3]) #replace the np.nan with mean\n",
    "#print(X[ : , 1:3])\n",
    "print(\"---------------------\")\n",
    "print(\"Step 3: Handling the missing data\")\n",
    "print(\"step2\")\n",
    "print(\"X\")\n",
    "print(X)"
   ],
   "outputs": [
    {
     "name": "stdout",
     "output_type": "stream",
     "text": [
      "---------------------\n",
      "Step 3: Handling the missing data\n",
      "step2\n",
      "X\n",
      "[['France' 44.0 72000.0]\n",
      " ['Spain' 27.0 48000.0]\n",
      " ['Germany' 30.0 54000.0]\n",
      " ['Spain' 38.0 61000.0]\n",
      " ['Germany' 40.0 48000.0]\n",
      " ['France' 35.0 58000.0]\n",
      " ['Spain' 27.0 52000.0]\n",
      " ['France' 48.0 79000.0]\n",
      " ['Germany' 50.0 83000.0]\n",
      " ['France' 37.0 67000.0]]\n"
     ]
    }
   ],
   "execution_count": 74
  },
  {
   "cell_type": "markdown",
   "metadata": {},
   "source": [
    "## 第四步：解析分类数据\n",
    "分类数据指的是含有标签值而不是数字值的变量。取值范围通常是固定的。例如\"Yes\"和\"No\"不能用于模型的数学计算，所以需要解析成数字。为实现这一功能，我们从sklearn.preprocessing库导入LabelEncoder类。"
   ]
  },
  {
   "cell_type": "code",
   "metadata": {
    "ExecuteTime": {
     "end_time": "2024-12-03T10:31:07.934183Z",
     "start_time": "2024-12-03T10:31:07.926083Z"
    }
   },
   "source": [
    "from sklearn.preprocessing import LabelEncoder, OneHotEncoder\n",
    "from sklearn.compose import ColumnTransformer \n",
    "#labelencoder_X = LabelEncoder()\n",
    "#X[ : , 0] = labelencoder_X.fit_transform(X[ : , 0])\n",
    "#Creating a dummy variable\n",
    "#print(X)\n",
    "ct = ColumnTransformer([(\"\", OneHotEncoder(), [0])], remainder = 'passthrough')\n",
    "X1 = ct.fit_transform(X)\n",
    "#onehotencoder = OneHotEncoder(categorical_features = [0])\n",
    "#X = onehotencoder.fit_transform(X).toarray()\n",
    "labelencoder_Y = LabelEncoder()\n",
    "Y1 =  labelencoder_Y.fit_transform(Y)\n",
    "print(\"---------------------\")\n",
    "print(\"Step 4: Encoding categorical data\")\n",
    "print(\"X\")\n",
    "print(X1)\n",
    "print(\"Y\")\n",
    "print(Y1)\n",
    "print(LabelEncoder().fit_transform(X[ : , 0]))"
   ],
   "outputs": [
    {
     "name": "stdout",
     "output_type": "stream",
     "text": [
      "---------------------\n",
      "Step 4: Encoding categorical data\n",
      "X\n",
      "[[1.0 0.0 0.0 44.0 72000.0]\n",
      " [0.0 0.0 1.0 27.0 48000.0]\n",
      " [0.0 1.0 0.0 30.0 54000.0]\n",
      " [0.0 0.0 1.0 38.0 61000.0]\n",
      " [0.0 1.0 0.0 40.0 48000.0]\n",
      " [1.0 0.0 0.0 35.0 58000.0]\n",
      " [0.0 0.0 1.0 27.0 52000.0]\n",
      " [1.0 0.0 0.0 48.0 79000.0]\n",
      " [0.0 1.0 0.0 50.0 83000.0]\n",
      " [1.0 0.0 0.0 37.0 67000.0]]\n",
      "Y\n",
      "[0 1 0 0 1 1 0 1 0 1]\n",
      "[0 2 1 2 1 0 2 0 1 0]\n"
     ]
    }
   ],
   "execution_count": 75
  },
  {
   "cell_type": "markdown",
   "metadata": {},
   "source": [
    "## 第五步：拆分数据集为测试集合和训练集合\n",
    "把数据集拆分成两个：一个是用来训练模型的训练集合，另一个是用来验证模型的测试集合。两者比例一般是80:20。我们导入sklearn.model_selection库中的train_test_split()方法。"
   ]
  },
  {
   "cell_type": "code",
   "metadata": {
    "ExecuteTime": {
     "end_time": "2024-12-03T10:31:07.953602Z",
     "start_time": "2024-12-03T10:31:07.945597Z"
    }
   },
   "source": [
    "from sklearn.model_selection import train_test_split\n",
    "X_train, X_test, Y_train, Y_test = train_test_split( X1 , Y1 , test_size = 0.2, random_state = 0)\n",
    "print(\"---------------------\")\n",
    "print(\"Step 5: Splitting the datasets into training sets and Test sets\")\n",
    "print(\"X_train\")\n",
    "print(X_train)\n",
    "print(\"X_test\")\n",
    "print(X_test)\n",
    "print(\"Y_train\")\n",
    "print(Y_train)\n",
    "print(\"Y_test\")\n",
    "print(Y_test)"
   ],
   "outputs": [
    {
     "name": "stdout",
     "output_type": "stream",
     "text": [
      "---------------------\n",
      "Step 5: Splitting the datasets into training sets and Test sets\n",
      "X_train\n",
      "[[0.0 1.0 0.0 40.0 48000.0]\n",
      " [1.0 0.0 0.0 37.0 67000.0]\n",
      " [0.0 0.0 1.0 27.0 48000.0]\n",
      " [0.0 0.0 1.0 27.0 52000.0]\n",
      " [1.0 0.0 0.0 48.0 79000.0]\n",
      " [0.0 0.0 1.0 38.0 61000.0]\n",
      " [1.0 0.0 0.0 44.0 72000.0]\n",
      " [1.0 0.0 0.0 35.0 58000.0]]\n",
      "X_test\n",
      "[[0.0 1.0 0.0 30.0 54000.0]\n",
      " [0.0 1.0 0.0 50.0 83000.0]]\n",
      "Y_train\n",
      "[1 1 1 0 1 0 0 1]\n",
      "Y_test\n",
      "[0 0]\n"
     ]
    }
   ],
   "execution_count": 76
  },
  {
   "cell_type": "markdown",
   "metadata": {},
   "source": [
    "## 第六步：特征量化\n",
    "大部分模型算法使用两点间的欧氏距离表示，但此特征在幅度、单位和范围姿态问题上变化很大。在距离计算中，高幅度的特征比低幅度特征权重更大。可用特征标准化或Z值归一化解决。导入sklearn.preprocessing库的StandardScalar类。\n",
    "\n",
    "### 特征标准化（Feature Scaling）\n",
    "是指将不同特征的数值调整到同一量级的过程，以便于提高机器学习模型的性能。特征标准化的主要目的是解决以下问题：\n",
    "\n",
    "- **不同特征之间的数值差异**：当不同特征的数值范围相差较大时，某些算法（如基于距离的算法，例如K近邻、支持向量机等）可能会受到数值范围较大的特征的影响，导致这些特征在模型中的权重过高。\n",
    "- **加快模型收敛速度**：对于梯度下降等优化算法，特征标准化可以加速模型的收敛速度。\n",
    "\n",
    "### 常见的特征标准化方法有：\n",
    "\n",
    "1. **最小-最大缩放（Min-Max Scaling）**：\n",
    "   将特征的值缩放到一个固定范围（通常是[0, 1]）。\n",
    "   $$\n",
    "   X_scaled = (X - X.min(axis=0)) / (X.max(axis=0) - X.min(axis=0))\n",
    "   $$\n",
    "\n",
    "2. **Z-Score 标准化（Standardization）**：\n",
    "   将特征的值转换为均值为0，标准差为1的标准正态分布。\n",
    "   $$\n",
    "   X' = \\frac{X - \\mu}{\\sigma} \\\\\n",
    "   其中，(\\mu) 是数据的均值，(\\sigma) 是数据的标准差。\n",
    "   $$\n",
    "\n",
    "\n",
    "### 举例。\n",
    "\n",
    "* 假设我们有一组简单的数据集，包含两个特征：年龄（Age）和收入（Income）。具体数据如下：\n",
    "\n",
    "    | Age | Income |\n",
    "    |-----|--------|\n",
    "    | 25  | 50000  |\n",
    "    | 30  | 60000  |\n",
    "    | 35  | 80000  |\n",
    "    | 40  | 120000 |\n",
    "\n",
    "* 最小-最大缩放（Min-Max Scaling）\n",
    "\n",
    "    * 计算过程\n",
    "        - **年龄（Age）**：\n",
    "          - $ X_{min} = 25 $\n",
    "          - $ X_{max} = 40 $\n",
    "          - 缩放后的年龄计算公式：\n",
    "            $$\n",
    "            X' = \\frac{X - 25}{40 - 25} = \\frac{X - 25}{15}\n",
    "            $$\n",
    "          - 计算结果：\n",
    "            - 25 -> $\\frac{25 - 25}{15} = 0.0$\n",
    "            - 30 -> $\\frac{30 - 25}{15} = 0.3333$\n",
    "            - 35 -> $\\frac{35 - 25}{15} = 0.6667$\n",
    "            - 40 -> $\\frac{40 - 25}{15} = 1.0$\n",
    "\n",
    "        - **收入（Income）**：\n",
    "          - $ X_{min} = 50000 $\n",
    "          - $ X_{max} = 120000 $\n",
    "          - 缩放后的收入计算公式：\n",
    "            $$\n",
    "            X' = \\frac{X - 50000}{120000 - 50000} = \\frac{X - 50000}{70000}\n",
    "            $$\n",
    "          - 计算结果：\n",
    "            - 50000 -> $\\frac{50000 - 50000}{70000} = 0.0$\n",
    "            - 60000 -> $\\frac{60000 - 50000}{70000} = 0.1429$\n",
    "            - 80000 -> $\\frac{80000 - 50000}{70000} = 0.4286$\n",
    "            - 120000 -> $\\frac{120000 - 50000}{70000} = 1.0$\n",
    "\n",
    "    * 转换后的数据\n",
    "        | Age (Scaled) | Income (Scaled) |\n",
    "        |--------------|-----------------|\n",
    "        | 0.0          | 0.0             |\n",
    "        | 0.3333       | 0.1429          |\n",
    "        | 0.6667       | 0.4286          |\n",
    "        | 1.0          | 1.0             |\n",
    "\n",
    "* Z-Score标准化（Standardization）\n",
    "\n",
    "    * 计算过程\n",
    "        - **年龄（Age）**：\n",
    "          - 均值 ($\\mu$) = $\\frac{25 + 30 + 35 + 40}{4} = 30$\n",
    "          - 标准差 ($\\sigma$) = $\\sqrt{\\frac{(25-30)^2 + (30-30)^2 + (35-30)^2 + (40-30)^2}{4}} = \\sqrt{\\frac{25 + 0 + 25 + 100}{4}} = \\sqrt{37.5} \\approx 6.12$\n",
    "          - 标准化后的年龄计算公式：\n",
    "            $$\n",
    "            X' = \\frac{X - 30}{6.12}\n",
    "            $$\n",
    "          - 计算结果：\n",
    "            - 25 -> $\\frac{25 - 30}{6.12} \\approx -0.817$\n",
    "            - 30 -> $\\frac{30 - 30}{6.12} = 0.0$\n",
    "            - 35 -> $\\frac{35 - 30}{6.12} \\approx 0.817$\n",
    "            - 40 -> $\\frac{40 - 30}{6.12} \\approx 1.634$\n",
    "\n",
    "        - **收入（Income）**：\n",
    "          - 均值 ($\\mu$) = $\\frac{50000 + 60000 + 80000 + 120000}{4} = 77500$\n",
    "          - 标准差 ($\\sigma$) = $\\sqrt{\\frac{(50000-77500)^2 + (60000-77500)^2 + (80000-77500)^2 + (120000-77500)^2}{4}} = \\sqrt{\\frac{76562500 + 3062500 + 62500 + 17562500}{4}} = \\sqrt{21625000} \\approx 4650.05$\n",
    "          - 标准化后的收入计算公式：\n",
    "            $$\n",
    "            X' = \\frac{X - 77500}{4650.05}\n",
    "            $$\n",
    "          - 计算结果：\n",
    "            - 50000 -> $\\frac{50000 - 77500}{4650.05} \\approx -5.916$\n",
    "            - 60000 -> $\\frac{60000 - 77500}{4650.05} \\approx -3.763$\n",
    "            - 80000 -> $\\frac{80000 - 77500}{4650.05} \\approx 0.537$\n",
    "            - 120000 -> $\\frac{120000 - 77500}{4650.05} \\approx 9.139$\n",
    "\n",
    "    * 转换后的数据\n",
    "        | Age (Standardized) | Income (Standardized) |\n",
    "        |--------------------|-----------------------|\n",
    "        | -0.817             | -5.916                |\n",
    "        | 0.0                | -3.763                |\n",
    "        | 0.817              | 0.537                 |\n",
    "        | 1.634              | 9.139                 |\n",
    "\n",
    "### 总结\n",
    "- **最小-最大缩放**将数据缩放到[0, 1]范围内，适合需要固定范围的算法。\n",
    "- **Z-Score标准化**将数据转换为均值为0，标准差为1的标准正态分布，适合大多数机器学习算法，尤其是对数据分布有假设的算法。"
   ]
  },
  {
   "cell_type": "code",
   "metadata": {
    "ExecuteTime": {
     "end_time": "2024-12-03T10:31:11.426161Z",
     "start_time": "2024-12-03T10:31:11.419871Z"
    }
   },
   "source": [
    "from sklearn.preprocessing import StandardScaler\n",
    "sc_X = StandardScaler()\n",
    "X_train1 = sc_X.fit_transform(X_train)\n",
    "X_test1 = sc_X.transform(X_test) #we should not use fit_transfer cause the u and z is determined from x_train\n",
    "print(\"---------------------\")\n",
    "print(\"Step 6: Feature Scaling\")\n",
    "print(\"X_train\")\n",
    "print(X_train1)\n",
    "print(\"X_test\")\n",
    "print(X_test1)\n"
   ],
   "outputs": [
    {
     "name": "stdout",
     "output_type": "stream",
     "text": [
      "---------------------\n",
      "Step 6: Feature Scaling\n",
      "X_train\n",
      "[[-1.          2.64575131 -0.77459667  0.4330127  -1.1851228 ]\n",
      " [ 1.         -0.37796447 -0.77459667  0.          0.59842834]\n",
      " [-1.         -0.37796447  1.29099445 -1.44337567 -1.1851228 ]\n",
      " [-1.         -0.37796447  1.29099445 -1.44337567 -0.80963835]\n",
      " [ 1.         -0.37796447 -0.77459667  1.58771324  1.72488169]\n",
      " [-1.         -0.37796447  1.29099445  0.14433757  0.03520167]\n",
      " [ 1.         -0.37796447 -0.77459667  1.01036297  1.0677839 ]\n",
      " [ 1.         -0.37796447 -0.77459667 -0.28867513 -0.24641167]]\n",
      "X_test\n",
      "[[-1.          2.64575131 -0.77459667 -1.01036297 -0.62189612]\n",
      " [-1.          2.64575131 -0.77459667  1.87638837  2.10036614]]\n"
     ]
    }
   ],
   "execution_count": 77
  },
  {
   "cell_type": "markdown",
   "metadata": {},
   "source": [
    "<b>完整的项目请前往Github项目<a href=\"https://github.com/MachineLearning100/100-Days-Of-ML-Code\">100-Days-Of-ML-Code</a>查看。有任何的建议或者意见欢迎在issue中提出~</b>"
   ]
  }
 ],
 "metadata": {
  "kernelspec": {
   "display_name": "Python 3 (ipykernel)",
   "language": "python",
   "name": "python3"
  },
  "language_info": {
   "codemirror_mode": {
    "name": "ipython",
    "version": 3
   },
   "file_extension": ".py",
   "mimetype": "text/x-python",
   "name": "python",
   "nbconvert_exporter": "python",
   "pygments_lexer": "ipython3",
   "version": "3.11.9"
  }
 },
 "nbformat": 4,
 "nbformat_minor": 4
}
